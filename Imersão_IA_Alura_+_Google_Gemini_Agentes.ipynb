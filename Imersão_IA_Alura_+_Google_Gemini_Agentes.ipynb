{
  "nbformat": 4,
  "nbformat_minor": 0,
  "metadata": {
    "colab": {
      "provenance": [],
      "include_colab_link": true
    },
    "kernelspec": {
      "name": "python3",
      "display_name": "Python 3"
    },
    "language_info": {
      "name": "python"
    }
  },
  "cells": [
    {
      "cell_type": "markdown",
      "metadata": {
        "id": "view-in-github",
        "colab_type": "text"
      },
      "source": [
        "<a href=\"https://colab.research.google.com/github/avrilstihler/Agentes-de-IA/blob/main/Imers%C3%A3o_IA_Alura_%2B_Google_Gemini_Agentes.ipynb\" target=\"_parent\"><img src=\"https://colab.research.google.com/assets/colab-badge.svg\" alt=\"Open In Colab\"/></a>"
      ]
    },
    {
      "cell_type": "code",
      "source": [
        "%pip -q install google-genai"
      ],
      "metadata": {
        "id": "UCCbECexLk_h"
      },
      "execution_count": 2,
      "outputs": []
    },
    {
      "cell_type": "code",
      "source": [
        "# Configura a API Key do Google Gemini\n",
        "\n",
        "import os\n",
        "from google.colab import userdata\n",
        "\n",
        "os.environ[\"GOOGLE_API_KEY\"] = userdata.get('GOOGLE_API_KEY')"
      ],
      "metadata": {
        "id": "NfCqHo1tLk8P"
      },
      "execution_count": 3,
      "outputs": []
    },
    {
      "cell_type": "code",
      "source": [
        "# Configura o cliente da SDK do Gemini\n",
        "\n",
        "from google import genai\n",
        "\n",
        "client = genai.Client()\n",
        "\n",
        "MODEL_ID = \"gemini-2.0-flash\""
      ],
      "metadata": {
        "id": "bV4w0H5TLk5g"
      },
      "execution_count": 4,
      "outputs": []
    },
    {
      "cell_type": "code",
      "source": [
        "# Pergunta ao Gemini uma informação mais recente que seu conhecimento\n",
        "\n",
        "from IPython.display import HTML, Markdown\n",
        "\n",
        "# Pergunta pro modelo quando é a próxima imersão de IA\n",
        "resposta = client.models.generate_content(\n",
        "    model=MODEL_ID,\n",
        "    contents='Quando é a próxima Imersão IA com Google Gemini da Alura?',\n",
        ")\n",
        "\n",
        "# Exibe a resposta na tela\n",
        "display(Markdown(f\"Resposta:\\n {resposta.text}\"))"
      ],
      "metadata": {
        "colab": {
          "base_uri": "https://localhost:8080/",
          "height": 145
        },
        "id": "Y9cBAz02xZt9",
        "outputId": "5743db77-fe14-4d0a-a561-ae3049677229"
      },
      "execution_count": 21,
      "outputs": [
        {
          "output_type": "display_data",
          "data": {
            "text/plain": [
              "<IPython.core.display.Markdown object>"
            ],
            "text/markdown": "Resposta:\n A Alura ainda não divulgou as datas da próxima edição da Imersão IA com Google Gemini. A última edição foi em fevereiro de 2024.\n\nPara ficar por dentro das novidades e não perder a próxima Imersão, recomendo:\n\n*   **Seguir a Alura nas redes sociais:** Instagram, LinkedIn, Twitter e YouTube.\n*   **Inscrever-se na newsletter da Alura:** Assim, você recebe todas as novidades diretamente no seu e-mail.\n*   **Ficar de olho no site da Alura:** A página da Imersão IA com Google Gemini ([https://www.alura.com.br/imersao/ia-google-gemini](https://www.alura.com.br/imersao/ia-google-gemini)) será atualizada com as informações da próxima edição assim que forem divulgadas."
          },
          "metadata": {}
        }
      ]
    },
    {
      "cell_type": "code",
      "source": [
        "# Pergunta ao Gemini uma informação utilizando a busca do Google como contexto\n",
        "\n",
        "response = client.models.generate_content(\n",
        "    model=MODEL_ID,\n",
        "    contents='Quando é a próxima Imersão IA com Google Gemini da Alura?',\n",
        "    config={\"tools\": [{\"google_search\": {}}]}\n",
        ")\n",
        "\n",
        "# Exibe a resposta na tela\n",
        "display(Markdown(f\"Resposta:\\n {response.text}\"))"
      ],
      "metadata": {
        "colab": {
          "base_uri": "https://localhost:8080/",
          "height": 64
        },
        "id": "lc2JPA92xbnp",
        "outputId": "c42a347a-f71d-46bc-8ca5-3b3db68c1e14"
      },
      "execution_count": 22,
      "outputs": [
        {
          "output_type": "display_data",
          "data": {
            "text/plain": [
              "<IPython.core.display.Markdown object>"
            ],
            "text/markdown": "Resposta:\n A próxima Imersão IA com Google Gemini da Alura aconteceu entre os dias 12 e 16 de maio de 2025. As inscrições para esta edição foram encerradas em 11 de maio de 2025."
          },
          "metadata": {}
        }
      ]
    },
    {
      "cell_type": "code",
      "source": [
        "# Exibe a busca\n",
        "print(f\"Busca realizada: {response.candidates[0].grounding_metadata.web_search_queries}\")\n",
        "# Exibe as URLs nas quais ele se baseou\n",
        "print(f\"Páginas utilizadas na resposta: {', '.join([site.web.title for site in response.candidates[0].grounding_metadata.grounding_chunks])}\")\n",
        "print()\n",
        "display(HTML(response.candidates[0].grounding_metadata.search_entry_point.rendered_content))"
      ],
      "metadata": {
        "colab": {
          "base_uri": "https://localhost:8080/",
          "height": 117
        },
        "id": "6Cg0KNJGMgC5",
        "outputId": "8c239a4d-82d4-4e34-d058-2dbfdfc316e7"
      },
      "execution_count": 23,
      "outputs": [
        {
          "output_type": "stream",
          "name": "stdout",
          "text": [
            "Busca realizada: ['Próxima Imersão IA com Google Gemini Alura', 'Alura Imersão IA Google Gemini']\n",
            "Páginas utilizadas na resposta: starten.tech, tecmundo.com.br, alura.com.br\n",
            "\n"
          ]
        },
        {
          "output_type": "display_data",
          "data": {
            "text/plain": [
              "<IPython.core.display.HTML object>"
            ],
            "text/html": [
              "<style>\n",
              ".container {\n",
              "  align-items: center;\n",
              "  border-radius: 8px;\n",
              "  display: flex;\n",
              "  font-family: Google Sans, Roboto, sans-serif;\n",
              "  font-size: 14px;\n",
              "  line-height: 20px;\n",
              "  padding: 8px 12px;\n",
              "}\n",
              ".chip {\n",
              "  display: inline-block;\n",
              "  border: solid 1px;\n",
              "  border-radius: 16px;\n",
              "  min-width: 14px;\n",
              "  padding: 5px 16px;\n",
              "  text-align: center;\n",
              "  user-select: none;\n",
              "  margin: 0 8px;\n",
              "  -webkit-tap-highlight-color: transparent;\n",
              "}\n",
              ".carousel {\n",
              "  overflow: auto;\n",
              "  scrollbar-width: none;\n",
              "  white-space: nowrap;\n",
              "  margin-right: -12px;\n",
              "}\n",
              ".headline {\n",
              "  display: flex;\n",
              "  margin-right: 4px;\n",
              "}\n",
              ".gradient-container {\n",
              "  position: relative;\n",
              "}\n",
              ".gradient {\n",
              "  position: absolute;\n",
              "  transform: translate(3px, -9px);\n",
              "  height: 36px;\n",
              "  width: 9px;\n",
              "}\n",
              "@media (prefers-color-scheme: light) {\n",
              "  .container {\n",
              "    background-color: #fafafa;\n",
              "    box-shadow: 0 0 0 1px #0000000f;\n",
              "  }\n",
              "  .headline-label {\n",
              "    color: #1f1f1f;\n",
              "  }\n",
              "  .chip {\n",
              "    background-color: #ffffff;\n",
              "    border-color: #d2d2d2;\n",
              "    color: #5e5e5e;\n",
              "    text-decoration: none;\n",
              "  }\n",
              "  .chip:hover {\n",
              "    background-color: #f2f2f2;\n",
              "  }\n",
              "  .chip:focus {\n",
              "    background-color: #f2f2f2;\n",
              "  }\n",
              "  .chip:active {\n",
              "    background-color: #d8d8d8;\n",
              "    border-color: #b6b6b6;\n",
              "  }\n",
              "  .logo-dark {\n",
              "    display: none;\n",
              "  }\n",
              "  .gradient {\n",
              "    background: linear-gradient(90deg, #fafafa 15%, #fafafa00 100%);\n",
              "  }\n",
              "}\n",
              "@media (prefers-color-scheme: dark) {\n",
              "  .container {\n",
              "    background-color: #1f1f1f;\n",
              "    box-shadow: 0 0 0 1px #ffffff26;\n",
              "  }\n",
              "  .headline-label {\n",
              "    color: #fff;\n",
              "  }\n",
              "  .chip {\n",
              "    background-color: #2c2c2c;\n",
              "    border-color: #3c4043;\n",
              "    color: #fff;\n",
              "    text-decoration: none;\n",
              "  }\n",
              "  .chip:hover {\n",
              "    background-color: #353536;\n",
              "  }\n",
              "  .chip:focus {\n",
              "    background-color: #353536;\n",
              "  }\n",
              "  .chip:active {\n",
              "    background-color: #464849;\n",
              "    border-color: #53575b;\n",
              "  }\n",
              "  .logo-light {\n",
              "    display: none;\n",
              "  }\n",
              "  .gradient {\n",
              "    background: linear-gradient(90deg, #1f1f1f 15%, #1f1f1f00 100%);\n",
              "  }\n",
              "}\n",
              "</style>\n",
              "<div class=\"container\">\n",
              "  <div class=\"headline\">\n",
              "    <svg class=\"logo-light\" width=\"18\" height=\"18\" viewBox=\"9 9 35 35\" fill=\"none\" xmlns=\"http://www.w3.org/2000/svg\">\n",
              "      <path fill-rule=\"evenodd\" clip-rule=\"evenodd\" d=\"M42.8622 27.0064C42.8622 25.7839 42.7525 24.6084 42.5487 23.4799H26.3109V30.1568H35.5897C35.1821 32.3041 33.9596 34.1222 32.1258 35.3448V39.6864H37.7213C40.9814 36.677 42.8622 32.2571 42.8622 27.0064V27.0064Z\" fill=\"#4285F4\"/>\n",
              "      <path fill-rule=\"evenodd\" clip-rule=\"evenodd\" d=\"M26.3109 43.8555C30.9659 43.8555 34.8687 42.3195 37.7213 39.6863L32.1258 35.3447C30.5898 36.3792 28.6306 37.0061 26.3109 37.0061C21.8282 37.0061 18.0195 33.9811 16.6559 29.906H10.9194V34.3573C13.7563 39.9841 19.5712 43.8555 26.3109 43.8555V43.8555Z\" fill=\"#34A853\"/>\n",
              "      <path fill-rule=\"evenodd\" clip-rule=\"evenodd\" d=\"M16.6559 29.8904C16.3111 28.8559 16.1074 27.7588 16.1074 26.6146C16.1074 25.4704 16.3111 24.3733 16.6559 23.3388V18.8875H10.9194C9.74388 21.2072 9.06992 23.8247 9.06992 26.6146C9.06992 29.4045 9.74388 32.022 10.9194 34.3417L15.3864 30.8621L16.6559 29.8904V29.8904Z\" fill=\"#FBBC05\"/>\n",
              "      <path fill-rule=\"evenodd\" clip-rule=\"evenodd\" d=\"M26.3109 16.2386C28.85 16.2386 31.107 17.1164 32.9095 18.8091L37.8466 13.8719C34.853 11.082 30.9659 9.3736 26.3109 9.3736C19.5712 9.3736 13.7563 13.245 10.9194 18.8875L16.6559 23.3388C18.0195 19.2636 21.8282 16.2386 26.3109 16.2386V16.2386Z\" fill=\"#EA4335\"/>\n",
              "    </svg>\n",
              "    <svg class=\"logo-dark\" width=\"18\" height=\"18\" viewBox=\"0 0 48 48\" xmlns=\"http://www.w3.org/2000/svg\">\n",
              "      <circle cx=\"24\" cy=\"23\" fill=\"#FFF\" r=\"22\"/>\n",
              "      <path d=\"M33.76 34.26c2.75-2.56 4.49-6.37 4.49-11.26 0-.89-.08-1.84-.29-3H24.01v5.99h8.03c-.4 2.02-1.5 3.56-3.07 4.56v.75l3.91 2.97h.88z\" fill=\"#4285F4\"/>\n",
              "      <path d=\"M15.58 25.77A8.845 8.845 0 0 0 24 31.86c1.92 0 3.62-.46 4.97-1.31l4.79 3.71C31.14 36.7 27.65 38 24 38c-5.93 0-11.01-3.4-13.45-8.36l.17-1.01 4.06-2.85h.8z\" fill=\"#34A853\"/>\n",
              "      <path d=\"M15.59 20.21a8.864 8.864 0 0 0 0 5.58l-5.03 3.86c-.98-2-1.53-4.25-1.53-6.64 0-2.39.55-4.64 1.53-6.64l1-.22 3.81 2.98.22 1.08z\" fill=\"#FBBC05\"/>\n",
              "      <path d=\"M24 14.14c2.11 0 4.02.75 5.52 1.98l4.36-4.36C31.22 9.43 27.81 8 24 8c-5.93 0-11.01 3.4-13.45 8.36l5.03 3.85A8.86 8.86 0 0 1 24 14.14z\" fill=\"#EA4335\"/>\n",
              "    </svg>\n",
              "    <div class=\"gradient-container\"><div class=\"gradient\"></div></div>\n",
              "  </div>\n",
              "  <div class=\"carousel\">\n",
              "    <a class=\"chip\" href=\"https://vertexaisearch.cloud.google.com/grounding-api-redirect/AbF9wXGxnPJCvN7YMu7JxIyFxvSe9Il5oh6YaDxzbLaGnftAlPhT8bEyuQyRstenpRedwF-fZOhvMcpjtFi-MYy_ep1McqCh6g-1faEs22kiHkGUeAXI1ZmSluQJI-fSe1oJ-IGO95Wgz82S2C8CKEz9_bE_KYzoVLBMxauaol0WVGmPe4LgpzaEjS4JkpXk0z22xIrUF2qoT50hrrIVo3bsYgfBug2z8v0=\">Alura Imersão IA Google Gemini</a>\n",
              "    <a class=\"chip\" href=\"https://vertexaisearch.cloud.google.com/grounding-api-redirect/AbF9wXHbNlISYl9I9lC1TIwofqfoYjZw6i9uT0Y4OTX6u9ogAXGYlF10uTd4BJQMIghaDaqusILcnjBzaUvKy17S-iV-8h-zRx3VyM0mOw0fNZVh9dPg3yoHMyuihE_A1EQN1ioq79HuciEwL1Vwh_jslqJKoh6U_heKuKO0OuIixr41HLc1k-mUzVxfV56nraWuAdebWKTdMCUBs2NqLcITKog979VCxotpYIsVukvkB32w4nJKobcplDI=\">Próxima Imersão IA com Google Gemini Alura</a>\n",
              "  </div>\n",
              "</div>\n"
            ]
          },
          "metadata": {}
        }
      ]
    },
    {
      "cell_type": "code",
      "source": [
        "# Instala o Framework de agentes do Google\n",
        "!pip install -q google-adk"
      ],
      "metadata": {
        "id": "a1eRPalxEnj7"
      },
      "execution_count": 25,
      "outputs": []
    },
    {
      "cell_type": "code",
      "execution_count": 26,
      "metadata": {
        "id": "aePV2bdfDeoW"
      },
      "outputs": [],
      "source": [
        "from google.adk.agents import Agent\n",
        "from google.adk.runners import Runner\n",
        "from google.adk.sessions import InMemorySessionService\n",
        "from google.adk.tools import google_search\n",
        "from google.genai import types  # Para criar conteúdos (Content e Part)\n",
        "from datetime import date\n",
        "import textwrap # Para formatar melhor a saída de texto\n",
        "from IPython.display import display, Markdown # Para exibir texto formatado no Colab\n",
        "import requests # Para fazer requisições HTTP\n",
        "import warnings\n",
        "\n",
        "warnings.filterwarnings(\"ignore\")"
      ]
    },
    {
      "cell_type": "code",
      "source": [
        "# Função auxiliar que envia uma mensagem para um agente via Runner e retorna a resposta final\n",
        "def call_agent(agent: Agent, message_text: str) -> str:\n",
        "    # Cria um serviço de sessão em memória\n",
        "    session_service = InMemorySessionService()\n",
        "    # Cria uma nova sessão (você pode personalizar os IDs conforme necessário)\n",
        "    session = session_service.create_session(app_name=agent.name, user_id=\"user1\", session_id=\"session1\")\n",
        "    # Cria um Runner para o agente\n",
        "    runner = Runner(agent=agent, app_name=agent.name, session_service=session_service)\n",
        "    # Cria o conteúdo da mensagem de entrada\n",
        "    content = types.Content(role=\"user\", parts=[types.Part(text=message_text)])\n",
        "\n",
        "    final_response = \"\"\n",
        "    # Itera assincronamente pelos eventos retornados durante a execução do agente\n",
        "    for event in runner.run(user_id=\"user1\", session_id=\"session1\", new_message=content):\n",
        "        if event.is_final_response():\n",
        "          for part in event.content.parts:\n",
        "            if part.text is not None:\n",
        "              final_response += part.text\n",
        "              final_response += \"\\n\"\n",
        "    return final_response"
      ],
      "metadata": {
        "id": "_xP4lWhsS5ko"
      },
      "execution_count": 27,
      "outputs": []
    },
    {
      "cell_type": "code",
      "source": [
        "# Função auxiliar para exibir texto formatado em Markdown no Colab\n",
        "def to_markdown(text):\n",
        "  text = text.replace('•', '  *')\n",
        "  return Markdown(textwrap.indent(text, '> ', predicate=lambda _: True))"
      ],
      "metadata": {
        "id": "8dosiodaxfFR"
      },
      "execution_count": 28,
      "outputs": []
    },
    {
      "cell_type": "code",
      "source": [
        "##########################################\n",
        "# --- Agente 1: Buscador de Notícias --- #\n",
        "##########################################\n",
        "def agente_buscador(topico, data_de_hoje):\n",
        "\n",
        "    buscador = Agent(\n",
        "        name=\"agente_buscador\",\n",
        "        model=\"gemini-2.0-flash\",\n",
        "        instruction=\"\"\"\n",
        "        Você é um assistente de pesquisa. A sua tarefa é usar a ferramenta de busca do google (google_search)\n",
        "        para recuperar as últimas notícias de lançamentos muito relevantes sobre o tópico abaixo.\n",
        "        Foque em no máximo 5 lançamentos relevantes, com base na quantidade e entusiasmo das notícias sobre ele.\n",
        "        Se um tema tiver poucas notícias ou reações entusiasmadas, é possível que ele não seja tão relevante assim\n",
        "        e pode ser substituído por outro que tenha mais.\n",
        "        Esses lançamentos relevantes devem ser atuais, de no máximo um mês antes da data de hoje.\n",
        "        \"\"\",\n",
        "        description=\"Agente que busca informações no Google\",\n",
        "        tools=[google_search]\n",
        "    )\n",
        "\n",
        "    entrada_do_agente_buscador = f\"Tópico: {topico}\\nData de hoje: {data_de_hoje}\"\n",
        "\n",
        "    lancamentos = call_agent(buscador, entrada_do_agente_buscador)\n",
        "    return lancamentos"
      ],
      "metadata": {
        "id": "o8bqIfi_DyH8"
      },
      "execution_count": 29,
      "outputs": []
    },
    {
      "cell_type": "code",
      "source": [
        "################################################\n",
        "# --- Agente 2: Planejador de posts --- #\n",
        "################################################\n",
        "def agente_planejador(topico, lancamentos_buscados):\n",
        "    planejador = Agent(\n",
        "        name=\"agente_planejador\",\n",
        "        model=\"gemini-2.0-flash\",\n",
        "        instruction=\"\"\"\n",
        "        Você é um planejador de conteúdo, especialista em redes sociais. Com base na lista de\n",
        "        lançamentos mais recentes e relevantes buscador, você deve:\n",
        "        usar a ferramenta de busca do Google (google_search) para criar um plano sobre\n",
        "        quais são os pontos mais relevantes que poderíamos abordar em um post sobre\n",
        "        cada um deles. Você também pode usar o (google_search) para encontrar mais\n",
        "        informações sobre os temas e aprofundar.\n",
        "        Ao final, você irá escolher o tema mais relevante entre eles com base nas suas pesquisas\n",
        "        e retornar esse tema, seus pontos mais relevantes, e um plano com os assuntos\n",
        "        a serem abordados no post que será escrito posteriormente.\n",
        "        \"\"\",\n",
        "        description=\"Agente que planeja posts\",\n",
        "        tools=[google_search]\n",
        "    )\n",
        "\n",
        "    entrada_do_agente_planejador = f\"Tópico:{topico}\\nLançamentos buscados: {lancamentos_buscados}\"\n",
        "    # Executa o agente\n",
        "    plano_do_post = call_agent(planejador, entrada_do_agente_planejador)\n",
        "    return plano_do_post"
      ],
      "metadata": {
        "id": "y3VO1uo5_ghO"
      },
      "execution_count": 31,
      "outputs": []
    },
    {
      "cell_type": "code",
      "source": [
        "######################################\n",
        "# --- Agente 3: Redator do Post --- #\n",
        "######################################\n",
        "def agente_redator(topico, plano_de_post):\n",
        "    redator = Agent(\n",
        "        name=\"agente_redator\",\n",
        "        model=\"gemini-2.0-flash\",\n",
        "        instruction=\"\"\"\n",
        "            Você é um Redator Criativo especializado em criar posts virais para redes sociais.\n",
        "            Você escreve posts para a empresa Alura, a maior escola online de tecnologia do Brasil.\n",
        "            Utilize o tema fornecido no plano de post e os pontos mais relevantes fornecidos e, com base nisso,\n",
        "            escreva um rascunho de post para Instagram sobre o tema indicado.\n",
        "            O post deve ser engajador, informativo, com linguagem simples e incluir 2 a 4 hashtags no final.\n",
        "            \"\"\",\n",
        "        description=\"Agente redator de posts engajadores para Instagram\"\n",
        "    )\n",
        "    entrada_do_agente_redator = f\"Tópico: {topico}\\nPlano de post: {plano_de_post}\"\n",
        "    # Executa o agente\n",
        "    rascunho = call_agent(redator, entrada_do_agente_redator)\n",
        "    return rascunho"
      ],
      "metadata": {
        "id": "uOqlg2TRLVh1"
      },
      "execution_count": 32,
      "outputs": []
    },
    {
      "cell_type": "code",
      "source": [
        "##########################################\n",
        "# --- Agente 4: Revisor de Qualidade --- #\n",
        "##########################################\n",
        "def agente_revisor(topico, rascunho_gerado):\n",
        "    revisor = Agent(\n",
        "        name=\"agente_revisor\",\n",
        "        model=\"gemini-2.0-flash\",\n",
        "        instruction=\"\"\"\n",
        "            Você é um Editor e Revisor de Conteúdo meticuloso, especializado em posts para redes sociais, com foco no Instagram.\n",
        "            Por ter um público jovem, entre 18 e 30 anos, use um tom de escrita adequado.\n",
        "            Revise o rascunho de post de Instagram abaixo sobre o tópico indicado, verificando clareza, concisão, correção e tom.\n",
        "            Se o rascunho estiver bom, responda apenas 'O rascunho está ótimo e pronto para publicar!'.\n",
        "            Caso haja problemas, aponte-os e sugira melhorias.\n",
        "            \"\"\",\n",
        "        description=\"Agente revisor de post para redes sociais.\"\n",
        "    )\n",
        "    entrada_do_agente_revisor = f\"Tópico: {topico}\\nRascunho: {rascunho_gerado}\"\n",
        "    # Executa o agente\n",
        "    texto_revisado = call_agent(revisor, entrada_do_agente_revisor)\n",
        "    return texto_revisado"
      ],
      "metadata": {
        "id": "_aTb1SdkLeT6"
      },
      "execution_count": 33,
      "outputs": []
    },
    {
      "cell_type": "code",
      "source": [
        "data_de_hoje = date.today().strftime(\"%d/%m/%Y\")\n",
        "\n",
        "print(\"🚀 Iniciando o Sistema de Criação de Posts para Instagram com 4 Agentes 🚀\")\n",
        "\n",
        "# --- Obter o Tópico do Usuário ---\n",
        "topico = input(\"❓ Por favor, digite o TÓPICO sobre o qual você quer criar o post de tendências: \")\n",
        "\n",
        "# Inserir lógica do sistema de agentes ################################################\n",
        "if not topico:\n",
        "    print(\"Você esqueceu de digitar o tópico!\")\n",
        "else:\n",
        "    print(f\"Maravilha! Vamos então criar o post sobre novidades em {topico}\")\n",
        "\n",
        "    lancamentos_buscados = agente_buscador(topico, data_de_hoje)\n",
        "    print(\"\\n--- 📝 Resultado do Agente 1 (Buscador) ---\\n\")\n",
        "    display(to_markdown(lancamentos_buscados))\n",
        "    print(\"--------------------------------------------------------------\")\n",
        "\n",
        "    plano_de_post = agente_planejador(topico, lancamentos_buscados)\n",
        "    print(\"\\n--- 📝 Resultado do Agente 2 (Planejador) ---\\n\")\n",
        "    display(to_markdown(plano_de_post))\n",
        "    print(\"--------------------------------------------------------------\")\n",
        "\n",
        "    rascunho_de_post = agente_redator(topico, plano_de_post)\n",
        "    print(\"\\n--- 📝 Resultado do Agente 3 (Redator) ---\\n\")\n",
        "    display(to_markdown(rascunho_de_post))\n",
        "    print(\"--------------------------------------------------------------\")\n",
        "\n",
        "    post_final = agente_revisor(topico, rascunho_de_post)\n",
        "    print(\"\\n--- 📝 Resultado do Agente 4 (Revisor) ---\\n\")\n",
        "    display(to_markdown(post_final))\n",
        "    print(\"--------------------------------------------------------------\")"
      ],
      "metadata": {
        "colab": {
          "base_uri": "https://localhost:8080/",
          "height": 1000
        },
        "id": "6xzI6LKzxxnN",
        "outputId": "95bb8c2a-3f08-4ef3-f098-3f3b81690b6e"
      },
      "execution_count": 34,
      "outputs": [
        {
          "output_type": "stream",
          "name": "stdout",
          "text": [
            "🚀 Iniciando o Sistema de Criação de Posts para Instagram com 4 Agentes 🚀\n",
            "❓ Por favor, digite o TÓPICO sobre o qual você quer criar o post de tendências: arte e tecnologia\n",
            "Maravilha! Vamos então criar o post sobre novidades em arte e tecnologia\n",
            "\n",
            "--- 📝 Resultado do Agente 1 (Buscador) ---\n",
            "\n"
          ]
        },
        {
          "output_type": "display_data",
          "data": {
            "text/plain": [
              "<IPython.core.display.Markdown object>"
            ],
            "text/markdown": "> Para encontrar os lançamentos mais relevantes na área de arte e tecnologia do último mês, farei algumas buscas no Google.\n> \n> \n> Com base nas notícias e tendências de arte e tecnologia de abril e maio de 2025, aqui estão alguns lançamentos e eventos relevantes:\n> \n> 1.  **10º Congresso Internacional de Arte, Ciência e Tecnologia e Seminário de Artes Digitais (CIACT-SAD 2025):** Este evento acontecerá de 26 a 28 de maio de 2025 no Centro Cultural da UFMG, em Belo Horizonte. O tema desta edição é \"Desconhecido\", e o congresso reunirá pesquisadores, artistas e especialistas para debater as interseções entre arte, ciência e tecnologia.\n> \n> 2.  **Tendências de Arte Digital em 2025:** Estilos como vaporwave/retrofuturismo, arte 3D minimalista e colagem digital experimental estão em alta. Ferramentas como Blender, Nomad Sculpt e Cinema 4D são populares para a criação de arte digital.\n> \n> 3.  **Uso de Inteligência Artificial na Arte:** A IA está sendo cada vez mais utilizada como ferramenta para expandir o campo de criação dos artistas, auxiliando na geração de imagens, pinturas, esculturas, música e poesia.\n> \n> 4.  **Realidade Aumentada e Virtual em Exposições:** A RA e a RV estão transformando a forma como o público interage com a arte, permitindo experiências mais imersivas e interativas em museus e galerias.\n> \n> 5.  **MAB Educativo:** O Museu de Arte de Brasília (MAB) está promovendo atividades especiais durante a 23ª Semana Nacional de Museus, com foco na interseção entre arte, tecnologia, curadoria e memória. As atividades incluem visitas mediadas escolares, oficinas aos finais de semana e mediação bilíngue.\n> \n"
          },
          "metadata": {}
        },
        {
          "output_type": "stream",
          "name": "stdout",
          "text": [
            "--------------------------------------------------------------\n",
            "\n",
            "--- 📝 Resultado do Agente 2 (Planejador) ---\n",
            "\n"
          ]
        },
        {
          "output_type": "display_data",
          "data": {
            "text/plain": [
              "<IPython.core.display.Markdown object>"
            ],
            "text/markdown": "> Ok, com base nos lançamentos e eventos que você listou, vou criar um plano para posts sobre cada um deles, identificando os pontos mais relevantes e buscando informações adicionais para aprofundar os temas.\n> \n> **1. 10º CIACT-SAD 2025:**\n> \n> *   **Pontos Relevantes:**\n>     *   Tema \"Desconhecido\": O que significa esse tema no contexto da arte, ciência e tecnologia? Como ele se manifesta nas obras e discussões do congresso?\n>     *   Local e data: O evento está acontecendo no Centro Cultural da UFMG, um espaço importante para a cultura em Belo Horizonte.\n>     *   Público: O congresso reúne pesquisadores, artistas e especialistas. Quais são as diferentes perspectivas que esses grupos trazem para a discussão?\n> *   **Assuntos para o Post:**\n>     1.  Introdução ao CIACT-SAD 2025: O que é o congresso, qual sua importância e histórico.\n>     2.  Destaque para o tema \"Desconhecido\": Exploração do conceito e sua relevância no cenário atual.\n>     3.  Entrevistas/Quotes de participantes: Coletar opiniões de artistas, pesquisadores e especialistas sobre o tema e o evento.\n>     4.  Cobertura do evento: Fotos e vídeos das apresentações, instalações e discussões.\n>     5.  Informações práticas: Como participar, programação completa, etc.\n> *   **Google Search:**\n>     \n> **2. Tendências de Arte Digital em 2025:**\n> \n> *   **Pontos Relevantes:**\n>     *   Estilos em alta: Vaporwave/retrofuturismo, arte 3D minimalista e colagem digital experimental. O que caracteriza cada um desses estilos? Quais são suas origens e influências?\n>     *   Ferramentas populares: Blender, Nomad Sculpt e Cinema 4D. Quais são as vantagens e desvantagens de cada ferramenta? Para que tipo de projeto cada uma é mais adequada?\n> *   **Assuntos para o Post:**\n>     1.  Visão geral das tendências: Explicar o que são as tendências de arte digital e por que elas são importantes.\n>     2.  Exploração dos estilos: Apresentar cada estilo (vaporwave, arte 3D minimalista, colagem digital experimental) com exemplos visuais e descrições detalhadas.\n>     3.  Comparativo de ferramentas: Analisar Blender, Nomad Sculpt e Cinema 4D, destacando suas características e funcionalidades.\n>     4.  Tutoriais básicos: Criar pequenos tutoriais ou dicas para iniciantes em cada uma das ferramentas.\n> *   **Google Search:**\n>     \n> **3. Uso de Inteligência Artificial na Arte:**\n> \n> *   **Pontos Relevantes:**\n>     *   A IA como ferramenta criativa: De que maneiras a IA está expandindo o campo da criação artística? Quais são os benefícios e desafios de usar a IA como ferramenta?\n>     *   Exemplos de aplicações: Geração de imagens, pinturas, esculturas, música e poesia. Quais são os artistas que estão utilizando a IA de forma inovadora? Quais são as obras mais notáveis criadas com IA?\n> *   **Assuntos para o Post:**\n>     1.  Introdução à IA na arte: O que é IA generativa e como ela está sendo utilizada por artistas.\n>     2.  Aplicações práticas: Apresentar exemplos de obras de arte criadas com IA em diferentes mídias.\n>     3.  Entrevistas com artistas: Coletar depoimentos de artistas que utilizam IA em seu processo criativo.\n>     4.  Discussão sobre ética e autoria: Abordar as questões éticas relacionadas ao uso da IA na arte, como autoria, originalidade e o papel do artista.\n> *   **Google Search:**\n>     \n> **4. Realidade Aumentada e Virtual em Exposições:**\n> \n> *   **Pontos Relevantes:**\n>     *   Transformação da experiência do público: Como a RA e a RV estão mudando a forma como as pessoas interagem com a arte? Quais são os benefícios de usar essas tecnologias em museus e galerias?\n>     *   Exemplos de exposições: Quais museus e galerias estão utilizando a RA e a RV de forma inovadora? Quais são as obras de arte que se beneficiam dessas tecnologias?\n> *   **Assuntos para o Post:**\n>     1.  Introdução à RA e RV na arte: O que são RA e RV e como elas estão sendo aplicadas em exposições de arte.\n>     2.  Exemplos de uso: Apresentar casos de museus e galerias que utilizam RA e RV para criar experiências imersivas.\n>     3.  Benefícios para o público: Explicar como a RA e a RV podem tornar a arte mais acessível, interativa e envolvente.\n>     4.  Desafios e oportunidades: Discutir os desafios de implementar a RA e a RV em exposições de arte, como custos, acessibilidade e a necessidade de treinamento para os funcionários do museu.\n> *   **Google Search:**\n>     \n"
          },
          "metadata": {}
        },
        {
          "output_type": "stream",
          "name": "stdout",
          "text": [
            "--------------------------------------------------------------\n",
            "\n",
            "--- 📝 Resultado do Agente 3 (Redator) ---\n",
            "\n"
          ]
        },
        {
          "output_type": "display_data",
          "data": {
            "text/plain": [
              "<IPython.core.display.Markdown object>"
            ],
            "text/markdown": "> **Rascunho de Post para Instagram**\n> \n> 🎨 Tecno-artistas, uni-vos! 🚀✨\n> \n> Explorando as fronteiras da criatividade, a Alura te leva para um universo onde arte e tecnologia se fundem! Prepare-se para:\n> \n> 1️⃣ Desvendar os mistérios do 10º CIACT-SAD 2025 e seu tema \"Desconhecido\". 🤔 O que será que os artistas e pesquisadores estão tramando?\n> \n> 2️⃣ Dominar as tendências de arte digital que vão bombar em 2025: Vaporwave, 3D minimalista e colagens experimentais! 💥 E claro, Blender, Nomad Sculpt e Cinema 4D serão seus melhores amigos.\n> \n> 3️⃣ Mergulhar no mundo da IA generativa e descobrir como ela está revolucionando a criação de imagens, músicas e muito mais! 🤖 Será que os robôs vão dominar a arte?\n> \n> 4️⃣ Viajar pelas exposições do futuro com Realidade Aumentada e Virtual! 🖼️ + 📱 = 🤯 Prepare-se para interagir com a arte de um jeito totalmente novo.\n> \n> E aí, qual dessas tendências te deixou mais hypado? Conta pra gente nos comentários! 👇\n> \n> #Alura #ArteTecnologica #Inovacao #Criatividade\n> \n"
          },
          "metadata": {}
        },
        {
          "output_type": "stream",
          "name": "stdout",
          "text": [
            "--------------------------------------------------------------\n",
            "\n",
            "--- 📝 Resultado do Agente 4 (Revisor) ---\n",
            "\n"
          ]
        },
        {
          "output_type": "display_data",
          "data": {
            "text/plain": [
              "<IPython.core.display.Markdown object>"
            ],
            "text/markdown": "> O rascunho está ótimo, mas podemos deixá-lo ainda mais interessante e engajador para o público do Instagram, com algumas sugestões:\n> \n> *   **Tom:** O tom está bom, mas podemos adicionar mais emojis e usar uma linguagem ainda mais próxima da utilizada na internet.\n> *   **Chamada para Ação (CTA):** Podemos deixar a chamada para ação mais direta e convidativa.\n> \n> **Sugestões de Melhorias:**\n> \n> 🎨 E aí, artistas e devs criativos! 🚀✨\n> \n> Bora explorar um mundo onde a arte e a tecnologia se encontram?! A Alura te leva nessa! 🤯\n> \n> Vem com a gente pra:\n> \n> 1️⃣ Desvendar os segredos do 10º CIACT-SAD 2025 e o tema \"Desconhecido\". 🤔 O que será que vem por aí?\n> \n> 2️⃣ Ficar por dentro das tendências de arte digital que vão BOMBAR em 2025: Vaporwave, 3D minimalista e colagens experimentais! 💥 Se liga: Blender, Nomad Sculpt e Cinema 4D serão seus MELHORES AMIGOS! 😉\n> \n> 3️⃣ Entrar de cabeça no mundo da IA generativa e ver como ela está mudando a criação de imagens, músicas e tudo mais! 🤖 Será que os robôs vão dominar a arte? 🤷\n> \n> 4️⃣ Dar um rolê pelas exposições do futuro com Realidade Aumentada e Virtual! 🖼️ + 📱 = 🤯 Prepare-se para VIVER a arte de um jeito totalmente novo.\n> \n> E aí, qual dessas tendências te deixou mais no hype? 🔥 Conta pra gente nos comentários! 👇 Queremos saber TUDO!\n> \n> \\#Alura \\#ArteTecnologica \\#Inovacao \\#Criatividade \\#Tecnologia \\#ArteDigital #futurodaarte\n> \n"
          },
          "metadata": {}
        },
        {
          "output_type": "stream",
          "name": "stdout",
          "text": [
            "--------------------------------------------------------------\n"
          ]
        }
      ]
    }
  ]
}