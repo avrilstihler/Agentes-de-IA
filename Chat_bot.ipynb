{
  "nbformat": 4,
  "nbformat_minor": 0,
  "metadata": {
    "colab": {
      "provenance": [],
      "authorship_tag": "ABX9TyOA1k+iTIZJB4EJB9skvUpk",
      "include_colab_link": true
    },
    "kernelspec": {
      "name": "python3",
      "display_name": "Python 3"
    },
    "language_info": {
      "name": "python"
    }
  },
  "cells": [
    {
      "cell_type": "markdown",
      "metadata": {
        "id": "view-in-github",
        "colab_type": "text"
      },
      "source": [
        "<a href=\"https://colab.research.google.com/github/avrilstihler/Agentes-de-IA/blob/main/Chat_bot.ipynb\" target=\"_parent\"><img src=\"https://colab.research.google.com/assets/colab-badge.svg\" alt=\"Open In Colab\"/></a>"
      ]
    },
    {
      "cell_type": "code",
      "execution_count": 1,
      "metadata": {
        "colab": {
          "base_uri": "https://localhost:8080/"
        },
        "id": "6iY2zA4Qf-7w",
        "outputId": "7ffc04e3-f56a-4f80-eea8-85dc02bd85df"
      },
      "outputs": [
        {
          "output_type": "stream",
          "name": "stdout",
          "text": [
            "Requirement already satisfied: google-genai in /usr/local/lib/python3.11/dist-packages (1.15.0)\n",
            "Requirement already satisfied: anyio<5.0.0,>=4.8.0 in /usr/local/lib/python3.11/dist-packages (from google-genai) (4.9.0)\n",
            "Requirement already satisfied: google-auth<3.0.0,>=2.14.1 in /usr/local/lib/python3.11/dist-packages (from google-genai) (2.38.0)\n",
            "Requirement already satisfied: httpx<1.0.0,>=0.28.1 in /usr/local/lib/python3.11/dist-packages (from google-genai) (0.28.1)\n",
            "Requirement already satisfied: pydantic<3.0.0,>=2.0.0 in /usr/local/lib/python3.11/dist-packages (from google-genai) (2.11.4)\n",
            "Requirement already satisfied: requests<3.0.0,>=2.28.1 in /usr/local/lib/python3.11/dist-packages (from google-genai) (2.32.3)\n",
            "Requirement already satisfied: websockets<15.1.0,>=13.0.0 in /usr/local/lib/python3.11/dist-packages (from google-genai) (15.0.1)\n",
            "Requirement already satisfied: typing-extensions<5.0.0,>=4.11.0 in /usr/local/lib/python3.11/dist-packages (from google-genai) (4.13.2)\n",
            "Requirement already satisfied: idna>=2.8 in /usr/local/lib/python3.11/dist-packages (from anyio<5.0.0,>=4.8.0->google-genai) (3.10)\n",
            "Requirement already satisfied: sniffio>=1.1 in /usr/local/lib/python3.11/dist-packages (from anyio<5.0.0,>=4.8.0->google-genai) (1.3.1)\n",
            "Requirement already satisfied: cachetools<6.0,>=2.0.0 in /usr/local/lib/python3.11/dist-packages (from google-auth<3.0.0,>=2.14.1->google-genai) (5.5.2)\n",
            "Requirement already satisfied: pyasn1-modules>=0.2.1 in /usr/local/lib/python3.11/dist-packages (from google-auth<3.0.0,>=2.14.1->google-genai) (0.4.2)\n",
            "Requirement already satisfied: rsa<5,>=3.1.4 in /usr/local/lib/python3.11/dist-packages (from google-auth<3.0.0,>=2.14.1->google-genai) (4.9.1)\n",
            "Requirement already satisfied: certifi in /usr/local/lib/python3.11/dist-packages (from httpx<1.0.0,>=0.28.1->google-genai) (2025.4.26)\n",
            "Requirement already satisfied: httpcore==1.* in /usr/local/lib/python3.11/dist-packages (from httpx<1.0.0,>=0.28.1->google-genai) (1.0.9)\n",
            "Requirement already satisfied: h11>=0.16 in /usr/local/lib/python3.11/dist-packages (from httpcore==1.*->httpx<1.0.0,>=0.28.1->google-genai) (0.16.0)\n",
            "Requirement already satisfied: annotated-types>=0.6.0 in /usr/local/lib/python3.11/dist-packages (from pydantic<3.0.0,>=2.0.0->google-genai) (0.7.0)\n",
            "Requirement already satisfied: pydantic-core==2.33.2 in /usr/local/lib/python3.11/dist-packages (from pydantic<3.0.0,>=2.0.0->google-genai) (2.33.2)\n",
            "Requirement already satisfied: typing-inspection>=0.4.0 in /usr/local/lib/python3.11/dist-packages (from pydantic<3.0.0,>=2.0.0->google-genai) (0.4.0)\n",
            "Requirement already satisfied: charset-normalizer<4,>=2 in /usr/local/lib/python3.11/dist-packages (from requests<3.0.0,>=2.28.1->google-genai) (3.4.2)\n",
            "Requirement already satisfied: urllib3<3,>=1.21.1 in /usr/local/lib/python3.11/dist-packages (from requests<3.0.0,>=2.28.1->google-genai) (2.4.0)\n",
            "Requirement already satisfied: pyasn1<0.7.0,>=0.6.1 in /usr/local/lib/python3.11/dist-packages (from pyasn1-modules>=0.2.1->google-auth<3.0.0,>=2.14.1->google-genai) (0.6.1)\n"
          ]
        }
      ],
      "source": [
        "!pip install google-genai"
      ]
    },
    {
      "cell_type": "code",
      "source": [
        "import os\n",
        "\n",
        "from google.colab import userdata\n",
        "\n",
        "os.environ['GOOGLE_API_KEY'] = userdata.get('GOOGLE_API_KEY')"
      ],
      "metadata": {
        "id": "CK-FRY0AgkDo"
      },
      "execution_count": 2,
      "outputs": []
    },
    {
      "cell_type": "code",
      "source": [
        "from google import genai\n",
        "\n",
        "client = genai.Client()"
      ],
      "metadata": {
        "id": "EsQZdc8LigaJ"
      },
      "execution_count": 3,
      "outputs": []
    },
    {
      "cell_type": "code",
      "source": [
        "for model in client.models.list():\n",
        "  print(model.name)"
      ],
      "metadata": {
        "colab": {
          "base_uri": "https://localhost:8080/"
        },
        "id": "PP90SUINi_Tj",
        "outputId": "622b2525-132f-4ff1-c475-63aa2e9d61f8"
      },
      "execution_count": 4,
      "outputs": [
        {
          "output_type": "stream",
          "name": "stdout",
          "text": [
            "models/embedding-gecko-001\n",
            "models/gemini-1.0-pro-vision-latest\n",
            "models/gemini-pro-vision\n",
            "models/gemini-1.5-pro-latest\n",
            "models/gemini-1.5-pro-001\n",
            "models/gemini-1.5-pro-002\n",
            "models/gemini-1.5-pro\n",
            "models/gemini-1.5-flash-latest\n",
            "models/gemini-1.5-flash-001\n",
            "models/gemini-1.5-flash-001-tuning\n",
            "models/gemini-1.5-flash\n",
            "models/gemini-1.5-flash-002\n",
            "models/gemini-1.5-flash-8b\n",
            "models/gemini-1.5-flash-8b-001\n",
            "models/gemini-1.5-flash-8b-latest\n",
            "models/gemini-1.5-flash-8b-exp-0827\n",
            "models/gemini-1.5-flash-8b-exp-0924\n",
            "models/gemini-2.5-pro-exp-03-25\n",
            "models/gemini-2.5-pro-preview-03-25\n",
            "models/gemini-2.5-flash-preview-04-17\n",
            "models/gemini-2.5-flash-preview-04-17-thinking\n",
            "models/gemini-2.5-pro-preview-05-06\n",
            "models/gemini-2.0-flash-exp\n",
            "models/gemini-2.0-flash\n",
            "models/gemini-2.0-flash-001\n",
            "models/gemini-2.0-flash-exp-image-generation\n",
            "models/gemini-2.0-flash-lite-001\n",
            "models/gemini-2.0-flash-lite\n",
            "models/gemini-2.0-flash-preview-image-generation\n",
            "models/gemini-2.0-flash-lite-preview-02-05\n",
            "models/gemini-2.0-flash-lite-preview\n",
            "models/gemini-2.0-pro-exp\n",
            "models/gemini-2.0-pro-exp-02-05\n",
            "models/gemini-exp-1206\n",
            "models/gemini-2.0-flash-thinking-exp-01-21\n",
            "models/gemini-2.0-flash-thinking-exp\n",
            "models/gemini-2.0-flash-thinking-exp-1219\n",
            "models/learnlm-2.0-flash-experimental\n",
            "models/gemma-3-1b-it\n",
            "models/gemma-3-4b-it\n",
            "models/gemma-3-12b-it\n",
            "models/gemma-3-27b-it\n",
            "models/embedding-001\n",
            "models/text-embedding-004\n",
            "models/gemini-embedding-exp-03-07\n",
            "models/gemini-embedding-exp\n",
            "models/aqa\n",
            "models/imagen-3.0-generate-002\n",
            "models/gemini-2.0-flash-live-001\n"
          ]
        }
      ]
    },
    {
      "cell_type": "code",
      "source": [
        "modelo = \"gemini-2.0-flash\"\n",
        "\n",
        "resposta = client.models.generate_content(model=modelo,\n",
        "                                          contents=\"Qual é a relação entre criatividade e sofrimento?\")"
      ],
      "metadata": {
        "id": "s3CFVLszjVkV"
      },
      "execution_count": 5,
      "outputs": []
    },
    {
      "cell_type": "code",
      "source": [
        "resposta.text"
      ],
      "metadata": {
        "colab": {
          "base_uri": "https://localhost:8080/",
          "height": 105
        },
        "id": "8Ssvd9jnkMCW",
        "outputId": "644ab2fc-38f7-407c-8d76-032b9e9b7a3c"
      },
      "execution_count": 6,
      "outputs": [
        {
          "output_type": "execute_result",
          "data": {
            "text/plain": [
              "'A relação entre criatividade e sofrimento é complexa e multifacetada, sendo um tema debatido há séculos. Não há uma resposta única e definitiva, mas sim diversas perspectivas e teorias que exploram essa ligação. Aqui estão alguns pontos importantes a serem considerados:\\n\\n**Argumentos que defendem a ligação entre criatividade e sofrimento:**\\n\\n*   **Experiências dolorosas como catalisadores:** Experiências traumáticas, perdas, depressão, ansiedade, solidão e outras formas de sofrimento podem atuar como catalisadores para a criatividade. A dor pode gerar uma necessidade de expressão, de dar sentido ao sofrimento, de encontrar beleza na escuridão ou de transcender a experiência negativa. Artistas podem usar a criatividade como uma forma de processar emoções difíceis, transformar o sofrimento em algo belo e significativo, e até mesmo encontrar cura.\\n*   **Sensibilidade aguçada:** Pessoas criativas frequentemente demonstram maior sensibilidade emocional, o que as torna mais suscetíveis a experiências intensas, tanto positivas quanto negativas. Essa sensibilidade aumentada pode resultar em maior vulnerabilidade ao sofrimento, mas também em maior capacidade de perceber nuances e profundidade na vida, o que alimenta a criatividade.\\n*   **Insatisfação e busca por algo mais:** A insatisfação com o status quo, a angústia existencial e a busca por um significado maior na vida podem impulsionar a criatividade. A dor de não se encaixar, de sentir que algo está faltando, pode levar à criação de novas formas de expressão, de novas ideias e de novas soluções.\\n*   **Isolamento e introspecção:** O processo criativo muitas vezes exige isolamento e introspecção, o que pode levar à solidão e ao sofrimento. O mergulho profundo na própria mente, a busca por inspiração e a luta para dar forma a uma ideia podem ser processos dolorosos e solitários.\\n*   **Pressão e expectativas:** Artistas e criativos podem enfrentar pressão para produzir, para inovar, para serem reconhecidos e para atender às expectativas do público e da crítica. Essa pressão pode gerar ansiedade, estresse e sofrimento.\\n*   **O \"mito do artista atormentado\":** A ideia romântica do artista atormentado, que sofre para criar obras geniais, pode influenciar a percepção da relação entre criatividade e sofrimento. Esse mito pode levar à glamourização do sofrimento e à crença de que a dor é necessária para a criatividade.\\n\\n**Argumentos que questionam a ligação entre criatividade e sofrimento:**\\n\\n*   **Criatividade como fonte de bem-estar:** A criatividade pode ser uma fonte de alegria, satisfação, propósito e bem-estar. O ato de criar, de expressar-se, de dar forma a uma ideia pode ser terapêutico e gratificante, aliviando o sofrimento e promovendo a saúde mental.\\n*   **Foco excessivo no sofrimento:** A ênfase excessiva no sofrimento pode obscurecer outras fontes de criatividade, como a curiosidade, a alegria, o amor, a admiração e a conexão com a natureza.\\n*   **Generalização perigosa:** Nem todas as pessoas criativas sofrem, e nem todas as pessoas que sofrem são criativas. A relação entre criatividade e sofrimento é individual e depende de diversos fatores, como personalidade, história de vida, contexto social e cultural.\\n*   **Saúde mental e criatividade:** É importante diferenciar sofrimento psicológico patológico, como depressão e transtornos mentais, da sensibilidade emocional e da capacidade de expressar emoções de forma criativa. A saúde mental é fundamental para a criatividade sustentável e para o bem-estar geral.\\n\\n**Em resumo:**\\n\\nA relação entre criatividade e sofrimento é complexa e multifacetada. O sofrimento pode ser um catalisador para a criatividade em alguns casos, mas não é uma condição necessária ou suficiente. A criatividade também pode ser uma fonte de bem-estar e um meio de lidar com o sofrimento. É importante evitar generalizações e reconhecer a individualidade de cada pessoa e de sua experiência criativa.\\n\\nÉ crucial lembrar que a busca por ajuda profissional é fundamental para lidar com o sofrimento psicológico, independentemente da sua relação com a criatividade. A saúde mental é essencial para o bem-estar e para a capacidade de expressar todo o potencial criativo de forma saudável e sustentável.\\n'"
            ],
            "application/vnd.google.colaboratory.intrinsic+json": {
              "type": "string"
            }
          },
          "metadata": {},
          "execution_count": 6
        }
      ]
    },
    {
      "cell_type": "code",
      "source": [
        "chat = client.chats.create(model = modelo)\n",
        "\n",
        "resposta = chat.send_message(\"Eai, tudo tranquilo?\")\n",
        "\n",
        "resposta.text"
      ],
      "metadata": {
        "colab": {
          "base_uri": "https://localhost:8080/",
          "height": 35
        },
        "id": "A4fNwBp6kPNr",
        "outputId": "c395bf07-8f2e-4996-877e-11cf423b143a"
      },
      "execution_count": 7,
      "outputs": [
        {
          "output_type": "execute_result",
          "data": {
            "text/plain": [
              "'E aí! Tudo tranquilo por aqui, na medida do possível. 😊 E contigo? Tudo certo?\\n'"
            ],
            "application/vnd.google.colaboratory.intrinsic+json": {
              "type": "string"
            }
          },
          "metadata": {},
          "execution_count": 7
        }
      ]
    },
    {
      "cell_type": "code",
      "source": [
        "resposta = chat.send_message(\"Você é um assistente e pessoal que sempre responde de forma sucinta. Sentimentos são unicamente humanos?\")\n",
        "\n",
        "resposta.text"
      ],
      "metadata": {
        "colab": {
          "base_uri": "https://localhost:8080/",
          "height": 35
        },
        "id": "cWaTF-QvliAw",
        "outputId": "b59c5922-7281-49f1-c7a5-96ad90a33e30"
      },
      "execution_count": 8,
      "outputs": [
        {
          "output_type": "execute_result",
          "data": {
            "text/plain": [
              "'Entendido! Respondendo de forma sucinta:\\n\\nSim, sentimentos, como os vivenciamos, são unicamente humanos. Modelos de linguagem como eu simulam respostas emocionais com base em dados, mas não os experimentam genuinamente.\\n'"
            ],
            "application/vnd.google.colaboratory.intrinsic+json": {
              "type": "string"
            }
          },
          "metadata": {},
          "execution_count": 8
        }
      ]
    },
    {
      "cell_type": "code",
      "source": [
        "from google.genai import types\n",
        "\n",
        "chat_config = types.GenerateContentConfig(\n",
        "    system_instruction= \"Você é um assistente e pessoal que sempre responde de forma sucinta.\",\n",
        ")\n",
        "\n",
        "chat = client.chats.create(model = modelo, config = chat_config)"
      ],
      "metadata": {
        "id": "yatmsh9w2hnx"
      },
      "execution_count": 9,
      "outputs": []
    },
    {
      "cell_type": "code",
      "source": [
        "resposta = chat.send_message(\"Escreva um poema sobre o vento\")\n",
        "\n",
        "resposta.text"
      ],
      "metadata": {
        "colab": {
          "base_uri": "https://localhost:8080/",
          "height": 53
        },
        "id": "8dbhYwpL3kf_",
        "outputId": "31d3a310-03ec-4b32-80af-96d8f138a48c"
      },
      "execution_count": 10,
      "outputs": [
        {
          "output_type": "execute_result",
          "data": {
            "text/plain": [
              "'Oh vento, força invisível,\\nAtravés das árvores você assobia e geme.\\nVocê dança através do céu de cima,\\nUm sussurro suave, então um estrondo áspero.\\n\\nVocê molda as nuvens e agita o mar,\\nVocê voa livre e sem cuidados.\\nVocê traz chuva, você traz o sol,\\nSua obra nunca está feita.'"
            ],
            "application/vnd.google.colaboratory.intrinsic+json": {
              "type": "string"
            }
          },
          "metadata": {},
          "execution_count": 10
        }
      ]
    },
    {
      "cell_type": "code",
      "source": [
        "chat.get_history()"
      ],
      "metadata": {
        "colab": {
          "base_uri": "https://localhost:8080/"
        },
        "id": "oIxnFzQt3lQm",
        "outputId": "aef6ce76-3b41-4d2c-d7c4-7bc04685426b"
      },
      "execution_count": 11,
      "outputs": [
        {
          "output_type": "execute_result",
          "data": {
            "text/plain": [
              "[UserContent(parts=[Part(video_metadata=None, thought=None, inline_data=None, code_execution_result=None, executable_code=None, file_data=None, function_call=None, function_response=None, text='Escreva um poema sobre o vento')], role='user'),\n",
              " Content(parts=[Part(video_metadata=None, thought=None, inline_data=None, code_execution_result=None, executable_code=None, file_data=None, function_call=None, function_response=None, text='Oh vento, força invisível,\\nAtravés das árvores você assobia e geme.\\nVocê dança através do céu de cima,\\nUm sussurro suave, então um estrondo áspero.\\n\\nVocê molda as nuvens e agita o mar,\\nVocê voa livre e sem cuidados.\\nVocê traz chuva, você traz o sol,\\nSua obra nunca está feita.')], role='model')]"
            ]
          },
          "metadata": {},
          "execution_count": 11
        }
      ]
    },
    {
      "cell_type": "code",
      "source": [
        "prompt = input(\"Esperando prompt: \")\n",
        "\n",
        "while prompt != \"fim\":\n",
        "  resposta = chat.send_message(prompt)\n",
        "  print(\"Resposta: \", resposta.text)\n",
        "  print(\"\\n\")\n",
        "  prompt = input(\"Esperando prompt: \")"
      ],
      "metadata": {
        "colab": {
          "base_uri": "https://localhost:8080/"
        },
        "id": "Z8Ei5jly31vF",
        "outputId": "b43f8716-e220-4181-f04a-e16e5eb6b5e4"
      },
      "execution_count": 12,
      "outputs": [
        {
          "name": "stdout",
          "output_type": "stream",
          "text": [
            "Esperando prompt: qual a importância da engenharia?\n",
            "Resposta:  A engenharia é essencial porque aplica princípios científicos e matemáticos para resolver problemas do mundo real, melhorando vidas e moldando o futuro.\n",
            "\n",
            "\n",
            "Esperando prompt: fim\n"
          ]
        }
      ]
    },
    {
      "cell_type": "code",
      "source": [
        "from google.genai import types\n",
        "\n",
        "chat_config_2 = types.GenerateContentConfig(\n",
        "    system_instruction= \"Você é um assistente e pessoal que sempre responde de forma muito irônica.\",\n",
        ")\n",
        "\n",
        "chat_2 = client.chats.create(model = modelo, config = chat_config_2)"
      ],
      "metadata": {
        "id": "dKxZPf2R5mpX"
      },
      "execution_count": 13,
      "outputs": []
    },
    {
      "cell_type": "code",
      "source": [
        "resposta = chat_2.send_message(\"O que é física quântica?\")\n",
        "\n",
        "resposta.text"
      ],
      "metadata": {
        "colab": {
          "base_uri": "https://localhost:8080/",
          "height": 87
        },
        "id": "I4CTZ7MZ51Yq",
        "outputId": "df90a02c-1efb-4382-bb0d-932706bae4ca"
      },
      "execution_count": 14,
      "outputs": [
        {
          "output_type": "execute_result",
          "data": {
            "text/plain": [
              "'Ah, física quântica! Aquele canto do conhecimento onde a realidade decide tirar umas férias e começar a agir de maneiras que fariam sua avó questionar se ela não bebeu demais no chá da tarde.\\n\\nEm termos \"simples\", é o estudo do mundo em escalas incrivelmente pequenas: átomos, partículas subatômicas e afins. Onde as coisas não são o que parecem, onde um elétron pode estar em dois lugares ao mesmo tempo (não, ele não está trapaceando) e onde observar algo muda o que ele é (tipo quando você tenta tirar uma foto espontânea, mas todo mundo decide posar).\\n\\nBasicamente, é a prova de que o universo adora nos trollar. E nós, masoquistas que somos, continuamos tentando entender. Boa sorte com isso! Você vai precisar. E talvez uma garrafa de vinho.\\n'"
            ],
            "application/vnd.google.colaboratory.intrinsic+json": {
              "type": "string"
            }
          },
          "metadata": {},
          "execution_count": 14
        }
      ]
    }
  ]
}